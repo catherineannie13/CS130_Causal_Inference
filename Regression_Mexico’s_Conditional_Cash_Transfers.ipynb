{
 "cells": [
  {
   "cell_type": "markdown",
   "id": "cd292c3f",
   "metadata": {},
   "source": [
    "# Assignment 1: Regression (Mexico’s Conditional Cash Transfers)"
   ]
  },
  {
   "cell_type": "markdown",
   "id": "289fc4e5",
   "metadata": {},
   "source": [
    "### Preliminaries"
   ]
  },
  {
   "cell_type": "code",
   "execution_count": 18,
   "id": "f979c849",
   "metadata": {},
   "outputs": [],
   "source": [
    "library(boot)\n",
    "library(arm)"
   ]
  },
  {
   "cell_type": "code",
   "execution_count": 2,
   "id": "98b41554",
   "metadata": {},
   "outputs": [
    {
     "data": {
      "text/html": [
       "<table class=\"dataframe\">\n",
       "<caption>A data.frame: 6 × 20</caption>\n",
       "<thead>\n",
       "\t<tr><th></th><th scope=col>treatment</th><th scope=col>pri2000s</th><th scope=col>pri2000v</th><th scope=col>t2000</th><th scope=col>t2000r</th><th scope=col>pri1994</th><th scope=col>pan1994</th><th scope=col>prd1994</th><th scope=col>pri1994s</th><th scope=col>pri1994v</th><th scope=col>pan1994s</th><th scope=col>pan1994v</th><th scope=col>prd1994s</th><th scope=col>prd1994v</th><th scope=col>t1994</th><th scope=col>t1994r</th><th scope=col>votos1994</th><th scope=col>avgpoverty</th><th scope=col>pobtot1994</th><th scope=col>villages</th></tr>\n",
       "\t<tr><th></th><th scope=col>&lt;int&gt;</th><th scope=col>&lt;dbl&gt;</th><th scope=col>&lt;dbl&gt;</th><th scope=col>&lt;dbl&gt;</th><th scope=col>&lt;dbl&gt;</th><th scope=col>&lt;int&gt;</th><th scope=col>&lt;int&gt;</th><th scope=col>&lt;int&gt;</th><th scope=col>&lt;dbl&gt;</th><th scope=col>&lt;dbl&gt;</th><th scope=col>&lt;dbl&gt;</th><th scope=col>&lt;dbl&gt;</th><th scope=col>&lt;dbl&gt;</th><th scope=col>&lt;dbl&gt;</th><th scope=col>&lt;dbl&gt;</th><th scope=col>&lt;dbl&gt;</th><th scope=col>&lt;int&gt;</th><th scope=col>&lt;dbl&gt;</th><th scope=col>&lt;int&gt;</th><th scope=col>&lt;int&gt;</th></tr>\n",
       "</thead>\n",
       "<tbody>\n",
       "\t<tr><th scope=row>1</th><td>1</td><td>40.82397</td><td>73.15436</td><td> 55.80524</td><td>60.56911</td><td>102</td><td> 3</td><td>23</td><td>45.75989</td><td>77.27273</td><td>1.345879</td><td>2.272727</td><td>10.3184067</td><td>17.424242</td><td>60.56456</td><td>67.00508</td><td>135</td><td>5.0</td><td> 541</td><td>4</td></tr>\n",
       "\t<tr><th scope=row>2</th><td>1</td><td>22.44186</td><td>73.52381</td><td> 31.22093</td><td>50.28736</td><td>245</td><td>18</td><td>14</td><td>15.11538</td><td>65.68365</td><td>1.110518</td><td>4.825737</td><td> 0.8637358</td><td> 3.753351</td><td>23.81443</td><td>55.83832</td><td>386</td><td>5.0</td><td>3289</td><td>2</td></tr>\n",
       "\t<tr><th scope=row>3</th><td>1</td><td>38.93130</td><td>87.03072</td><td> 47.02290</td><td>42.52540</td><td> 52</td><td> 8</td><td> 4</td><td> 7.98857</td><td>50.98039</td><td>1.229011</td><td>7.843137</td><td> 0.6145054</td><td> 3.921569</td><td>21.66131</td><td>35.54007</td><td>141</td><td>4.5</td><td>1320</td><td>2</td></tr>\n",
       "\t<tr><th scope=row>4</th><td>1</td><td>31.16883</td><td>71.28713</td><td> 45.02164</td><td>49.75369</td><td> 58</td><td> 6</td><td> 7</td><td>29.16215</td><td>73.41772</td><td>3.016775</td><td>7.594937</td><td> 3.5195705</td><td> 8.860759</td><td>40.22366</td><td>56.83453</td><td> 80</td><td>5.0</td><td> 384</td><td>1</td></tr>\n",
       "\t<tr><th scope=row>5</th><td>0</td><td>76.92308</td><td>78.94737</td><td>100.00000</td><td>48.40764</td><td> 30</td><td> 0</td><td>38</td><td>20.17038</td><td>43.47826</td><td>0.000000</td><td>0.000000</td><td>25.5491525</td><td>55.072464</td><td>46.39188</td><td>48.59155</td><td> 69</td><td>5.0</td><td> 307</td><td>1</td></tr>\n",
       "\t<tr><th scope=row>6</th><td>0</td><td>23.85321</td><td>65.40881</td><td> 37.38532</td><td>34.79212</td><td>128</td><td> 0</td><td>20</td><td>32.81974</td><td>51.82186</td><td>0.000000</td><td>0.000000</td><td> 5.1280838</td><td> 8.097166</td><td>63.33183</td><td>68.61111</td><td>247</td><td>5.0</td><td> 840</td><td>6</td></tr>\n",
       "</tbody>\n",
       "</table>\n"
      ],
      "text/latex": [
       "A data.frame: 6 × 20\n",
       "\\begin{tabular}{r|llllllllllllllllllll}\n",
       "  & treatment & pri2000s & pri2000v & t2000 & t2000r & pri1994 & pan1994 & prd1994 & pri1994s & pri1994v & pan1994s & pan1994v & prd1994s & prd1994v & t1994 & t1994r & votos1994 & avgpoverty & pobtot1994 & villages\\\\\n",
       "  & <int> & <dbl> & <dbl> & <dbl> & <dbl> & <int> & <int> & <int> & <dbl> & <dbl> & <dbl> & <dbl> & <dbl> & <dbl> & <dbl> & <dbl> & <int> & <dbl> & <int> & <int>\\\\\n",
       "\\hline\n",
       "\t1 & 1 & 40.82397 & 73.15436 &  55.80524 & 60.56911 & 102 &  3 & 23 & 45.75989 & 77.27273 & 1.345879 & 2.272727 & 10.3184067 & 17.424242 & 60.56456 & 67.00508 & 135 & 5.0 &  541 & 4\\\\\n",
       "\t2 & 1 & 22.44186 & 73.52381 &  31.22093 & 50.28736 & 245 & 18 & 14 & 15.11538 & 65.68365 & 1.110518 & 4.825737 &  0.8637358 &  3.753351 & 23.81443 & 55.83832 & 386 & 5.0 & 3289 & 2\\\\\n",
       "\t3 & 1 & 38.93130 & 87.03072 &  47.02290 & 42.52540 &  52 &  8 &  4 &  7.98857 & 50.98039 & 1.229011 & 7.843137 &  0.6145054 &  3.921569 & 21.66131 & 35.54007 & 141 & 4.5 & 1320 & 2\\\\\n",
       "\t4 & 1 & 31.16883 & 71.28713 &  45.02164 & 49.75369 &  58 &  6 &  7 & 29.16215 & 73.41772 & 3.016775 & 7.594937 &  3.5195705 &  8.860759 & 40.22366 & 56.83453 &  80 & 5.0 &  384 & 1\\\\\n",
       "\t5 & 0 & 76.92308 & 78.94737 & 100.00000 & 48.40764 &  30 &  0 & 38 & 20.17038 & 43.47826 & 0.000000 & 0.000000 & 25.5491525 & 55.072464 & 46.39188 & 48.59155 &  69 & 5.0 &  307 & 1\\\\\n",
       "\t6 & 0 & 23.85321 & 65.40881 &  37.38532 & 34.79212 & 128 &  0 & 20 & 32.81974 & 51.82186 & 0.000000 & 0.000000 &  5.1280838 &  8.097166 & 63.33183 & 68.61111 & 247 & 5.0 &  840 & 6\\\\\n",
       "\\end{tabular}\n"
      ],
      "text/markdown": [
       "\n",
       "A data.frame: 6 × 20\n",
       "\n",
       "| <!--/--> | treatment &lt;int&gt; | pri2000s &lt;dbl&gt; | pri2000v &lt;dbl&gt; | t2000 &lt;dbl&gt; | t2000r &lt;dbl&gt; | pri1994 &lt;int&gt; | pan1994 &lt;int&gt; | prd1994 &lt;int&gt; | pri1994s &lt;dbl&gt; | pri1994v &lt;dbl&gt; | pan1994s &lt;dbl&gt; | pan1994v &lt;dbl&gt; | prd1994s &lt;dbl&gt; | prd1994v &lt;dbl&gt; | t1994 &lt;dbl&gt; | t1994r &lt;dbl&gt; | votos1994 &lt;int&gt; | avgpoverty &lt;dbl&gt; | pobtot1994 &lt;int&gt; | villages &lt;int&gt; |\n",
       "|---|---|---|---|---|---|---|---|---|---|---|---|---|---|---|---|---|---|---|---|---|\n",
       "| 1 | 1 | 40.82397 | 73.15436 |  55.80524 | 60.56911 | 102 |  3 | 23 | 45.75989 | 77.27273 | 1.345879 | 2.272727 | 10.3184067 | 17.424242 | 60.56456 | 67.00508 | 135 | 5.0 |  541 | 4 |\n",
       "| 2 | 1 | 22.44186 | 73.52381 |  31.22093 | 50.28736 | 245 | 18 | 14 | 15.11538 | 65.68365 | 1.110518 | 4.825737 |  0.8637358 |  3.753351 | 23.81443 | 55.83832 | 386 | 5.0 | 3289 | 2 |\n",
       "| 3 | 1 | 38.93130 | 87.03072 |  47.02290 | 42.52540 |  52 |  8 |  4 |  7.98857 | 50.98039 | 1.229011 | 7.843137 |  0.6145054 |  3.921569 | 21.66131 | 35.54007 | 141 | 4.5 | 1320 | 2 |\n",
       "| 4 | 1 | 31.16883 | 71.28713 |  45.02164 | 49.75369 |  58 |  6 |  7 | 29.16215 | 73.41772 | 3.016775 | 7.594937 |  3.5195705 |  8.860759 | 40.22366 | 56.83453 |  80 | 5.0 |  384 | 1 |\n",
       "| 5 | 0 | 76.92308 | 78.94737 | 100.00000 | 48.40764 |  30 |  0 | 38 | 20.17038 | 43.47826 | 0.000000 | 0.000000 | 25.5491525 | 55.072464 | 46.39188 | 48.59155 |  69 | 5.0 |  307 | 1 |\n",
       "| 6 | 0 | 23.85321 | 65.40881 |  37.38532 | 34.79212 | 128 |  0 | 20 | 32.81974 | 51.82186 | 0.000000 | 0.000000 |  5.1280838 |  8.097166 | 63.33183 | 68.61111 | 247 | 5.0 |  840 | 6 |\n",
       "\n"
      ],
      "text/plain": [
       "  treatment pri2000s pri2000v t2000     t2000r   pri1994 pan1994 prd1994\n",
       "1 1         40.82397 73.15436  55.80524 60.56911 102      3      23     \n",
       "2 1         22.44186 73.52381  31.22093 50.28736 245     18      14     \n",
       "3 1         38.93130 87.03072  47.02290 42.52540  52      8       4     \n",
       "4 1         31.16883 71.28713  45.02164 49.75369  58      6       7     \n",
       "5 0         76.92308 78.94737 100.00000 48.40764  30      0      38     \n",
       "6 0         23.85321 65.40881  37.38532 34.79212 128      0      20     \n",
       "  pri1994s pri1994v pan1994s pan1994v prd1994s   prd1994v  t1994    t1994r  \n",
       "1 45.75989 77.27273 1.345879 2.272727 10.3184067 17.424242 60.56456 67.00508\n",
       "2 15.11538 65.68365 1.110518 4.825737  0.8637358  3.753351 23.81443 55.83832\n",
       "3  7.98857 50.98039 1.229011 7.843137  0.6145054  3.921569 21.66131 35.54007\n",
       "4 29.16215 73.41772 3.016775 7.594937  3.5195705  8.860759 40.22366 56.83453\n",
       "5 20.17038 43.47826 0.000000 0.000000 25.5491525 55.072464 46.39188 48.59155\n",
       "6 32.81974 51.82186 0.000000 0.000000  5.1280838  8.097166 63.33183 68.61111\n",
       "  votos1994 avgpoverty pobtot1994 villages\n",
       "1 135       5.0         541       4       \n",
       "2 386       5.0        3289       2       \n",
       "3 141       4.5        1320       2       \n",
       "4  80       5.0         384       1       \n",
       "5  69       5.0         307       1       \n",
       "6 247       5.0         840       6       "
      ]
     },
     "metadata": {},
     "output_type": "display_data"
    }
   ],
   "source": [
    "progresa <- read.csv('progresa.csv')\n",
    "head(progresa)"
   ]
  },
  {
   "cell_type": "code",
   "execution_count": 3,
   "id": "c7a8ba09",
   "metadata": {},
   "outputs": [
    {
     "data": {
      "text/html": [
       "<style>\n",
       ".dl-inline {width: auto; margin:0; padding: 0}\n",
       ".dl-inline>dt, .dl-inline>dd {float: none; width: auto; display: inline-block}\n",
       ".dl-inline>dt::after {content: \":\\0020\"; padding-right: .5ex}\n",
       ".dl-inline>dt:not(:first-of-type) {padding-left: .5ex}\n",
       "</style><dl class=dl-inline><dt>0</dt><dd>63.8148336036914</dd><dt>1</dt><dd>68.0845096086462</dd></dl>\n"
      ],
      "text/latex": [
       "\\begin{description*}\n",
       "\\item[0] 63.8148336036914\n",
       "\\item[1] 68.0845096086462\n",
       "\\end{description*}\n"
      ],
      "text/markdown": [
       "0\n",
       ":   63.81483360369141\n",
       ":   68.0845096086462\n",
       "\n"
      ],
      "text/plain": [
       "       0        1 \n",
       "63.81483 68.08451 "
      ]
     },
     "metadata": {},
     "output_type": "display_data"
    },
    {
     "data": {
      "text/html": [
       "<style>\n",
       ".dl-inline {width: auto; margin:0; padding: 0}\n",
       ".dl-inline>dt, .dl-inline>dd {float: none; width: auto; display: inline-block}\n",
       ".dl-inline>dt::after {content: \":\\0020\"; padding-right: .5ex}\n",
       ".dl-inline>dt:not(:first-of-type) {padding-left: .5ex}\n",
       "</style><dl class=dl-inline><dt>0</dt><dd>34.4889522921564</dd><dt>1</dt><dd>38.1114477959318</dd></dl>\n"
      ],
      "text/latex": [
       "\\begin{description*}\n",
       "\\item[0] 34.4889522921564\n",
       "\\item[1] 38.1114477959318\n",
       "\\end{description*}\n"
      ],
      "text/markdown": [
       "0\n",
       ":   34.48895229215641\n",
       ":   38.1114477959318\n",
       "\n"
      ],
      "text/plain": [
       "       0        1 \n",
       "34.48895 38.11145 "
      ]
     },
     "metadata": {},
     "output_type": "display_data"
    }
   ],
   "source": [
    "# seperate turnout based on treatment, and find mean\n",
    "tapply(progresa$t2000, progresa$treatment, mean)\n",
    "turn_treat.lm <- lm(t2000 ~ treatment, data = progresa)\n",
    "\n",
    "# seperate support based on treatment, and find mean\n",
    "tapply(progresa$pri2000s, progresa$treatment, mean)\n",
    "support_treat.lm <- lm(pri2000s ~ treatment, data = progresa)"
   ]
  },
  {
   "cell_type": "code",
   "execution_count": 4,
   "id": "56d93f5b",
   "metadata": {},
   "outputs": [],
   "source": [
    "# regressing turnout on several independent variables \n",
    "turn_mult.lm <- lm(t2000 ~ treatment + avgpoverty + pobtot1994 + votos1994 + pri1994 + pan1994 + prd1994, data = progresa)\n",
    "\n",
    "# regressing support on several independent variables \n",
    "support_mult.lm <- lm(pri2000s ~ treatment + avgpoverty + pobtot1994 + votos1994 + pri1994 + pan1994 + prd1994, \n",
    "                      data = progresa)"
   ]
  },
  {
   "cell_type": "code",
   "execution_count": 5,
   "id": "a2228496",
   "metadata": {},
   "outputs": [],
   "source": [
    "# regressing turnout on several independent variables with log 1994 population\n",
    "turn_log.lm <- lm(t2000 ~ treatment + avgpoverty + log(pobtot1994) +t1994 + pri1994s + pan1994s + prd1994s, data = progresa)\n",
    "\n",
    "# regressing support on several independent variables with log 1994 population\n",
    "support_log.lm <- lm(pri2000s ~ treatment + avgpoverty + log(pobtot1994) +t1994 + pri1994s + pan1994s + prd1994s, \n",
    "                     data = progresa)"
   ]
  },
  {
   "cell_type": "code",
   "execution_count": 6,
   "id": "060796d9",
   "metadata": {},
   "outputs": [
    {
     "data": {
      "text/html": [
       "0.0018285635963291"
      ],
      "text/latex": [
       "0.0018285635963291"
      ],
      "text/markdown": [
       "0.0018285635963291"
      ],
      "text/plain": [
       "[1] 0.001828564"
      ]
     },
     "metadata": {},
     "output_type": "display_data"
    },
    {
     "data": {
      "text/html": [
       "0.00629767273371462"
      ],
      "text/latex": [
       "0.00629767273371462"
      ],
      "text/markdown": [
       "0.00629767273371462"
      ],
      "text/plain": [
       "[1] 0.006297673"
      ]
     },
     "metadata": {},
     "output_type": "display_data"
    },
    {
     "data": {
      "text/html": [
       "0.0627330105602742"
      ],
      "text/latex": [
       "0.0627330105602742"
      ],
      "text/markdown": [
       "0.0627330105602742"
      ],
      "text/plain": [
       "[1] 0.06273301"
      ]
     },
     "metadata": {},
     "output_type": "display_data"
    },
    {
     "data": {
      "text/html": [
       "0.207251615089648"
      ],
      "text/latex": [
       "0.207251615089648"
      ],
      "text/markdown": [
       "0.207251615089648"
      ],
      "text/plain": [
       "[1] 0.2072516"
      ]
     },
     "metadata": {},
     "output_type": "display_data"
    },
    {
     "data": {
      "text/html": [
       "0.686833085837002"
      ],
      "text/latex": [
       "0.686833085837002"
      ],
      "text/markdown": [
       "0.686833085837002"
      ],
      "text/plain": [
       "[1] 0.6868331"
      ]
     },
     "metadata": {},
     "output_type": "display_data"
    },
    {
     "data": {
      "text/html": [
       "0.572162052728158"
      ],
      "text/latex": [
       "0.572162052728158"
      ],
      "text/markdown": [
       "0.572162052728158"
      ],
      "text/plain": [
       "[1] 0.5721621"
      ]
     },
     "metadata": {},
     "output_type": "display_data"
    }
   ],
   "source": [
    "# get R^2 for each model\n",
    "summary(turn_treat.lm)$adj.r.squared\n",
    "summary(support_treat.lm)$adj.r.squared\n",
    "\n",
    "summary(turn_mult.lm)$adj.r.squared\n",
    "summary(support_mult.lm)$adj.r.squared\n",
    "\n",
    "summary(turn_log.lm)$adj.r.squared\n",
    "summary(support_log.lm)$adj.r.squared"
   ]
  },
  {
   "cell_type": "markdown",
   "id": "2a76c7a3",
   "metadata": {},
   "source": [
    "### Graded "
   ]
  },
  {
   "cell_type": "code",
   "execution_count": 7,
   "id": "9cf71c9c",
   "metadata": {},
   "outputs": [],
   "source": [
    "# drop row with NAs\n",
    "progresa <- na.omit(progresa)"
   ]
  },
  {
   "cell_type": "markdown",
   "id": "d74af5c8",
   "metadata": {},
   "source": [
    "**Question 1**\\\n",
    "The histograms below show the following patterns. Precinct population distributions for the control and treatment groups are alike. The majority of precincts in both groups have populations between 0 and 2500, with few precincts having populations greater than 5000. Average poverty indexes for both groups are also similar, with both having a range between 3 and 5, and the majority of precincts having an average poverty index nearer 5. There are very few precincts with an average poverty index less than 3.5 in both groups. Previous PRI support rates for each group follow a somewhat-normal distribution with a right skew. For both groups, the mode PRI support rate is ~40, and the majority of values lie below 80. However, though few, the treatment group has more higher PRI support precincts (more values above 80)."
   ]
  },
  {
   "cell_type": "code",
   "execution_count": 8,
   "id": "81d53adb",
   "metadata": {
    "scrolled": false
   },
   "outputs": [
    {
     "data": {
      "image/png": "[encoded data removed]",
      "text/plain": [
       "Plot with title \"Precinct Population for Control Group\""
      ]
     },
     "metadata": {
      "image/png": {
       "height": 420,
       "width": 420
      }
     },
     "output_type": "display_data"
    },
    {
     "data": {
      "image/png": "[encoded data removed]",
      "text/plain": [
       "Plot with title \"Precinct Population for Treatment Group\""
      ]
     },
     "metadata": {
      "image/png": {
       "height": 420,
       "width": 420
      }
     },
     "output_type": "display_data"
    },
    {
     "data": {
      "image/png": "[encoded data removed]",
      "text/plain": [
       "Plot with title \"Average Poverty Index for Control Group\""
      ]
     },
     "metadata": {
      "image/png": {
       "height": 420,
       "width": 420
      }
     },
     "output_type": "display_data"
    },
    {
     "data": {
      "image/png": "[encoded data removed]",
      "text/plain": [
       "Plot with title \"Average Poverty Index for Treatment Group\""
      ]
     },
     "metadata": {
      "image/png": {
       "height": 420,
       "width": 420
      }
     },
     "output_type": "display_data"
    },
    {
     "data": {
      "image/png": "[encoded data removed]",
      "text/plain": [
       "Plot with title \"Previous PRI Support Rate for Control Group\""
      ]
     },
     "metadata": {
      "image/png": {
       "height": 420,
       "width": 420
      }
     },
     "output_type": "display_data"
    },
    {
     "data": {
      "image/png": "[encoded data removed]",
      "text/plain": [
       "Plot with title \"Previous PRI Support Rate for Treatment Group\""
      ]
     },
     "metadata": {
      "image/png": {
       "height": 420,
       "width": 420
      }
     },
     "output_type": "display_data"
    }
   ],
   "source": [
    "# precinct population (pobtot1994)\n",
    "control_pop <- progresa$pobtot1994[progresa$treatment == 0]\n",
    "treatment_pop <- progresa$pobtot1994[progresa$treatment == 1]\n",
    "hist(control_pop, col = 'blue', breaks = 20, xlim = c(0, 20000), \n",
    "     main = 'Precinct Population for Control Group', xlab = 'Population')\n",
    "hist(treatment_pop, col = 'red', breaks = 100, xlim = c(0, 20000), \n",
    "     main = 'Precinct Population for Treatment Group', xlab = 'Population')\n",
    "\n",
    "# average poverty index (avgpoverty)\n",
    "control_pov <- progresa$avgpoverty[progresa$treatment == 0]\n",
    "treatment_pov <- progresa$avgpoverty[progresa$treatment == 1]\n",
    "hist(control_pov, col = 'blue', breaks = 20, xlim = c(3, 5), \n",
    "     main = 'Average Poverty Index for Control Group', xlab = 'Avg poverty index')\n",
    "hist(treatment_pov, col = 'red', breaks = 20, xlim = c(3, 5), \n",
    "     main = 'Average Poverty Index for Treatment Group', xlab = 'Avg poverty index')\n",
    "\n",
    "# previous PRI support rate as a share of voting age population (pri1994s)\n",
    "control_prev <- progresa$pri1994s[progresa$treatment == 0]\n",
    "treatment_prev <- progresa$pri1994s[progresa$treatment == 1]\n",
    "hist(control_prev, col = 'blue', breaks = 10, xlim = c(0, 180), \n",
    "     main = 'Previous PRI Support Rate for Control Group', xlab = 'PRI support rate')\n",
    "hist(treatment_prev, col = 'red', breaks = 20, xlim = c(0, 180), \n",
    "     main = 'Previous PRI Support Rate for Treatment Group', xlab = 'PRI support rate')"
   ]
  },
  {
   "cell_type": "markdown",
   "id": "5082ea6c",
   "metadata": {},
   "source": [
    "**Question 2**\\\n",
    "*Turnout rate*\\\n",
    "For turnout rate, the linear regression will be given by:\n",
    "$$33.47-0.28X_1-0.28X_2+0.22X_3+0.12X_4+0.27X_5+0.11X_6-1.08X_7$$\n",
    "Where $X_1$ = avgpoverty, $X_2$ = log(pobtot1994), $X_3$ = t1994r, $X_4$ = pri1994v, $X_5$ = pan1994v, $X_6$ = prd1994v, and $X_7$ = treatment.\n",
    "\n",
    "We can substitute the values of the treatment variable (0, 1) into the equation to get the average treatment effect: \n",
    "$$(33.47-0.28X_1-0.28X_2+0.22X_3+0.12X_4+0.27X_5+0.11X_6-1.08(1))-(33.47-0.28X_1-0.28X_2+0.22X_3+0.12X_4+0.27X_5+0.11X_6-1.08(0))$$\n",
    "$$=-1.08$$\n",
    "The average treatment effect of $-1.08$ tells us that, for this specific set of predictor variables ($X_1=x_1$ to $x_6=x_6$), we would expect a decrease in average turnout rate by $1.08$ from the control to treatment group. In other words, we can say that this is the decrease in expected value from the control to treatment group, given the values of all other independent variables in the model.\n",
    "\n",
    "We can also calculate a 95% confidence interval for this treatment effect as follows to quantify our uncertainty.\n",
    "$$[-1.08-1.96*0.82, -1.08+1.96*0.82]$$\n",
    "$$[-2.69, 0.53]$$\n",
    "Since the true population treatment effect is unknown, the confidence interval tells us a possible range of average treatment effect values for the population.\n",
    "\n",
    "*Support rate*\\\n",
    "For the support rate, we can calculate the average treatment effect in the same way to get:\n",
    "$$0.80$$\n",
    "This tells us that, for this specific set of predictor variables, we would expect an increase in average turnout rate by $0.80$ from the control to the treatment group. This is the decrease in expected value from control to treatment group, given the other independent variables in the model. The 95% confidence interval will be given by: $$[0.80-1.96*1.33, 0.80+1.96*1.33]=[-1.81, 3.41]$$ and is interpreted in the same way as above."
   ]
  },
  {
   "cell_type": "code",
   "execution_count": 9,
   "id": "3c6f6702",
   "metadata": {},
   "outputs": [
    {
     "data": {
      "text/plain": [
       "\n",
       "Call:\n",
       "lm(formula = t2000r ~ avgpoverty + log(pobtot1994) + t1994r + \n",
       "    pri1994v + pan1994v + prd1994v + treatment, data = progresa)\n",
       "\n",
       "Residuals:\n",
       "    Min      1Q  Median      3Q     Max \n",
       "-38.041  -4.555   0.029   5.010  29.069 \n",
       "\n",
       "Coefficients:\n",
       "                Estimate Std. Error t value Pr(>|t|)    \n",
       "(Intercept)     33.47237    8.85553   3.780 0.000180 ***\n",
       "avgpoverty      -0.27734    0.88768  -0.312 0.754874    \n",
       "log(pobtot1994) -0.27878    0.47487  -0.587 0.557487    \n",
       "t1994r           0.22238    0.03102   7.168 3.59e-12 ***\n",
       "pri1994v         0.12473    0.05489   2.272 0.023586 *  \n",
       "pan1994v         0.27356    0.07257   3.770 0.000188 ***\n",
       "prd1994v         0.11323    0.05790   1.955 0.051209 .  \n",
       "treatment       -1.08094    0.81683  -1.323 0.186465    \n",
       "---\n",
       "Signif. codes:  0 '***' 0.001 '**' 0.01 '*' 0.05 '.' 0.1 ' ' 1\n",
       "\n",
       "Residual standard error: 7.795 on 408 degrees of freedom\n",
       "Multiple R-squared:  0.1809,\tAdjusted R-squared:  0.1669 \n",
       "F-statistic: 12.87 on 7 and 408 DF,  p-value: 5.603e-15\n"
      ]
     },
     "metadata": {},
     "output_type": "display_data"
    },
    {
     "data": {
      "text/plain": [
       "\n",
       "Call:\n",
       "lm(formula = pri2000v ~ avgpoverty + log(pobtot1994) + t1994r + \n",
       "    pri1994v + pan1994v + prd1994v + treatment, data = progresa)\n",
       "\n",
       "Residuals:\n",
       "    Min      1Q  Median      3Q     Max \n",
       "-37.876  -7.686   1.072   7.461  34.758 \n",
       "\n",
       "Coefficients:\n",
       "                Estimate Std. Error t value Pr(>|t|)    \n",
       "(Intercept)     50.22721   14.43904   3.479 0.000558 ***\n",
       "avgpoverty       3.19082    1.44737   2.205 0.028042 *  \n",
       "log(pobtot1994) -2.59489    0.77428  -3.351 0.000879 ***\n",
       "t1994r          -0.08612    0.05058  -1.703 0.089421 .  \n",
       "pri1994v         0.35738    0.08950   3.993 7.73e-05 ***\n",
       "pan1994v        -0.48863    0.11832  -4.130 4.41e-05 ***\n",
       "prd1994v        -0.24158    0.09441  -2.559 0.010862 *  \n",
       "treatment        0.80172    1.33185   0.602 0.547536    \n",
       "---\n",
       "Signif. codes:  0 '***' 0.001 '**' 0.01 '*' 0.05 '.' 0.1 ' ' 1\n",
       "\n",
       "Residual standard error: 12.71 on 408 degrees of freedom\n",
       "Multiple R-squared:  0.4836,\tAdjusted R-squared:  0.4747 \n",
       "F-statistic: 54.58 on 7 and 408 DF,  p-value: < 2.2e-16\n"
      ]
     },
     "metadata": {},
     "output_type": "display_data"
    }
   ],
   "source": [
    "# regress turnout rate on poverty, population, and previous election vote shares\n",
    "turn_rate.lm <- lm(t2000r ~ avgpoverty + log(pobtot1994) + t1994r + pri1994v + pan1994v + prd1994v + treatment, \n",
    "                   data = progresa)\n",
    "summary(turn_rate.lm)\n",
    "\n",
    "# regress support rate on poverty, population, and previous election vote shares\n",
    "support_rate.lm <- lm(pri2000v ~ avgpoverty + log(pobtot1994) + t1994r + pri1994v + pan1994v + prd1994v + treatment, \n",
    "                      data = progresa)\n",
    "summary(support_rate.lm)"
   ]
  },
  {
   "cell_type": "markdown",
   "id": "dff3c99c",
   "metadata": {},
   "source": [
    "**Question 3**\\\n",
    "The 95% confidence interval for predicted values for the turnout rate of precinct 11 is [39.9, 70.7]. This means that we predict values of the turnout rate for precinct 11 (given our independent variables) to be between 39.5 and 70.9. The 95% confidence interval for expected values for the turnout rate of precinct 11 is [52.7, 57.8]. This means that we expect the true mean turnout rate for precinct 11 to lie between 52.7 and 57.8. The interval for the expected value is narrower since we have averaged out the fundamental uncertainty that comes from variables other than those used in the regression, the stochastic component."
   ]
  },
  {
   "cell_type": "code",
   "execution_count": 10,
   "id": "caf2acf2",
   "metadata": {},
   "outputs": [],
   "source": [
    "# set seed for reproducible results\n",
    "set.seed(3)\n",
    "sim1 <- sim(turn_rate.lm, n.sims = 10000)\n",
    "\n",
    "# extract intercepts, slopes, and stdevs from simulation\n",
    "intercepts <- sim1@coef[,1]\n",
    "slopes <- sim1@coef[,2:8]\n",
    "sigmas <- sim1@sigma"
   ]
  },
  {
   "cell_type": "code",
   "execution_count": 11,
   "id": "a6d611a1",
   "metadata": {},
   "outputs": [
    {
     "name": "stdout",
     "output_type": "stream",
     "text": [
      "Predicted values 95% interval:"
     ]
    },
    {
     "data": {
      "text/html": [
       "<style>\n",
       ".dl-inline {width: auto; margin:0; padding: 0}\n",
       ".dl-inline>dt, .dl-inline>dd {float: none; width: auto; display: inline-block}\n",
       ".dl-inline>dt::after {content: \":\\0020\"; padding-right: .5ex}\n",
       ".dl-inline>dt:not(:first-of-type) {padding-left: .5ex}\n",
       "</style><dl class=dl-inline><dt>2.5%</dt><dd>39.9174700885132</dd><dt>97.5%</dt><dd>70.7112419608407</dd></dl>\n"
      ],
      "text/latex": [
       "\\begin{description*}\n",
       "\\item[2.5\\textbackslash{}\\%] 39.9174700885132\n",
       "\\item[97.5\\textbackslash{}\\%] 70.7112419608407\n",
       "\\end{description*}\n"
      ],
      "text/markdown": [
       "2.5%\n",
       ":   39.917470088513297.5%\n",
       ":   70.7112419608407\n",
       "\n"
      ],
      "text/plain": [
       "    2.5%    97.5% \n",
       "39.91747 70.71124 "
      ]
     },
     "metadata": {},
     "output_type": "display_data"
    },
    {
     "name": "stdout",
     "output_type": "stream",
     "text": [
      "Expected values 95% interval:"
     ]
    },
    {
     "data": {
      "text/html": [
       "<style>\n",
       ".dl-inline {width: auto; margin:0; padding: 0}\n",
       ".dl-inline>dt, .dl-inline>dd {float: none; width: auto; display: inline-block}\n",
       ".dl-inline>dt::after {content: \":\\0020\"; padding-right: .5ex}\n",
       ".dl-inline>dt:not(:first-of-type) {padding-left: .5ex}\n",
       "</style><dl class=dl-inline><dt>2.5%</dt><dd>52.7126284475187</dd><dt>97.5%</dt><dd>57.8147478380329</dd></dl>\n"
      ],
      "text/latex": [
       "\\begin{description*}\n",
       "\\item[2.5\\textbackslash{}\\%] 52.7126284475187\n",
       "\\item[97.5\\textbackslash{}\\%] 57.8147478380329\n",
       "\\end{description*}\n"
      ],
      "text/markdown": [
       "2.5%\n",
       ":   52.712628447518797.5%\n",
       ":   57.8147478380329\n",
       "\n"
      ],
      "text/plain": [
       "    2.5%    97.5% \n",
       "52.71263 57.81475 "
      ]
     },
     "metadata": {},
     "output_type": "display_data"
    },
    {
     "data": {
      "image/png": "[encoded data removed]",
      "text/plain": [
       "Plot with title \"Predicted and Expected Distributions of Turnout Rate for Precinct 11\""
      ]
     },
     "metadata": {
      "image/png": {
       "height": 420,
       "width": 420
      }
     },
     "output_type": "display_data"
    }
   ],
   "source": [
    "# extract precinct 11 (row 11) from dataset\n",
    "precinct11 <- progresa[11, ]\n",
    "\n",
    "pred_vals <- NA\n",
    "expected_vals <- NA\n",
    "\n",
    "for(i in 1:10000){\n",
    "    expected = intercepts[i] + slopes[i,1]*precinct11$avgpoverty + \n",
    "    slopes[i,2]*log(precinct11$pobtot1994) + slopes[i,3]*precinct11$t1994r +\n",
    "    slopes[i,4]*precinct11$pri1994v + slopes[i,5]*precinct11$pan1994v + \n",
    "    slopes[i,6]*precinct11$prd1994v + slopes[i,7]*precinct11$treatment\n",
    "    noise <- rnorm(1, mean = 0, sd = sigmas[i])\n",
    "    \n",
    "    # encorporate stochastic component into predicted values only\n",
    "    expected_vals[i] <- expected\n",
    "    pred_vals[i] <- expected + noise\n",
    "}\n",
    "\n",
    "# confidence intervals\n",
    "cat('Predicted values 95% interval:')\n",
    "pred_interval <-  quantile(pred_vals, probs = c(0.025, 0.975))\n",
    "pred_interval\n",
    "\n",
    "cat('Expected values 95% interval:')\n",
    "expected_interval <- quantile(expected_vals, probs = c(0.025, 0.975))\n",
    "expected_interval\n",
    "\n",
    "# store histogram objects to plot together\n",
    "h1 <- hist(pred_vals, breaks = 20, plot = FALSE)\n",
    "h2 <- hist(expected_vals, breaks = 10, plot = FALSE)\n",
    "\n",
    "# plot overlay to compare predicted and expected distributions and 95% CIs\n",
    "plot(h1, col = 'red', ylim = c(0, 3000), main = 'Predicted and Expected Distributions of Turnout Rate for Precinct 11',\n",
    "    xlab = 'Turnout rate')\n",
    "plot(h2, col = 'blue', add = TRUE)\n",
    "legend(75, 2900, legend=c('Expected', 'Predicted'), fill = c('blue','red'))\n",
    "abline(v = c(pred_interval, expected_interval), col=c('red', 'red', 'blue', 'blue'), lty=2, lwd=3)"
   ]
  },
  {
   "cell_type": "markdown",
   "id": "b663a329",
   "metadata": {},
   "source": [
    "**Question 4**\\\n",
    "a) The inclusion of an interaction term in the model allows it to have varying treatment effects for different values of the dummy variable; the average treatment effect will be different between precincts where the voting rate for PRD in 1994 (prd1994v) is greater than 50 and those where it is less than 50. In reality, the treatment wouldn't have the same impact on all precincts. By adding in an interaction term, we allow the model some more flexibility as it can now factor a variable into the treatment effect such that different precincts have different expected changes in voting turnout rate between control and treatment groups.\n",
    "\n",
    "b) We can first write out the regression equation:\n",
    "$$34.03-0.35X_1-0.29X_2+0.22X_3+0.12X_4+0.27X_5+0.11X_6-1.40X_7-1.97X_8+4.34X_7X_8$$\n",
    "Where $X_1$ = avgpoverty, $X_2$ = log(pobtot1994), $X_3$ = t1994r, $X_4$ = pri1994v, $X_5$ = pan1994v, $X_6$ = prd1994v, $X_7$ = treatment and $X_8$ = dummy variable for prd1994v>50.\n",
    "\n",
    "Given that the average treatment effect is given by subtracting the regression equation where $X_7=0$ from where it equals $X_7=1$, we obtain the equation:\n",
    "$$(34.03-0.35X_1-0.29X_2+0.22X_3+0.12X_4+0.27X_5+0.11X_6-1.40(1)-1.97X_8+4.34(1)X_8) - (34.03-0.35X_1-0.29X_2+0.22X_3+0.12X_4+0.27X_5+0.11X_6-1.40(0)-1.97X_8+4.34(0)X_8)$$\n",
    "$$=-1.40+4.34X_8$$\n",
    "\n",
    "The average treatment effect equation is a function of the dummy variable indicating whether prd1994v is greater than 50. The first term, $-1.40$ tells us the intercept of the treatment effect; if the dummy variable is equal to 0, this is the expected value for the increase in turnout rate between control and treatment groups (given all other variables in the model). The coefficient of the dummy variable, $4.34$ tells us the increase in treatment effect we would expect with an increase of 1 in the dummy variable; if we change the dummy variable from 0 to 1, we would expect an increase of $4.34$ in the average treatment effect.\n",
    "\n",
    "c) Though it is difficult to determine the statistical significance of the treatment effect solely from the graph below, there are some conclusions we can draw here. Firstly, when the PRD voting rate for 1994 is less than 50, there is much less variation in the treatment effect, most samples from the simulation lying between ~-4 and ~2. Conversely, when the PRD voting rate for 1994 is greater than 50, there is significantly more variation in the treatment effect, which lies between ~-5 and ~10. This suggests that we are more certain about the value of the intercept of the treatment effect than that of the slope, which is verified when we look at the p-values in the summary of the model (slope: 0.10, intercept: 0.16). Neither of the expected values are statistically significant to the 95% significance level. Given that the p-value is calculated from the standard error, which is in turn a function of the standard deviation of the data, we can see how the statistical significance is dependent on both the number of datapoints in the dataset, and treatment and treatment:prd1994_50 interaction variables."
   ]
  },
  {
   "cell_type": "code",
   "execution_count": 12,
   "id": "9141e12a",
   "metadata": {},
   "outputs": [
    {
     "data": {
      "text/plain": [
       "\n",
       "Call:\n",
       "lm(formula = t2000r ~ avgpoverty + log(pobtot1994) + t1994r + \n",
       "    pri1994v + pan1994v + prd1994v + treatment + prd1994_50 + \n",
       "    prd1994_50:treatment, data = progresa)\n",
       "\n",
       "Residuals:\n",
       "    Min      1Q  Median      3Q     Max \n",
       "-37.784  -4.545  -0.003   4.975  29.117 \n",
       "\n",
       "Coefficients:\n",
       "                     Estimate Std. Error t value Pr(>|t|)    \n",
       "(Intercept)          34.02324    8.86447   3.838 0.000144 ***\n",
       "avgpoverty           -0.35029    0.88926  -0.394 0.693852    \n",
       "log(pobtot1994)      -0.29122    0.47581  -0.612 0.540848    \n",
       "t1994r                0.22117    0.03103   7.127 4.71e-12 ***\n",
       "pri1994v              0.12767    0.05493   2.324 0.020609 *  \n",
       "pan1994v              0.27440    0.07258   3.781 0.000180 ***\n",
       "prd1994v              0.10768    0.06218   1.732 0.084097 .  \n",
       "treatment            -1.40499    0.84984  -1.653 0.099057 .  \n",
       "prd1994_50           -1.96657    2.84329  -0.692 0.489551    \n",
       "treatment:prd1994_50  4.34713    3.10870   1.398 0.162764    \n",
       "---\n",
       "Signif. codes:  0 '***' 0.001 '**' 0.01 '*' 0.05 '.' 0.1 ' ' 1\n",
       "\n",
       "Residual standard error: 7.794 on 406 degrees of freedom\n",
       "Multiple R-squared:  0.1851,\tAdjusted R-squared:  0.167 \n",
       "F-statistic: 10.25 on 9 and 406 DF,  p-value: 2.831e-14\n"
      ]
     },
     "metadata": {},
     "output_type": "display_data"
    }
   ],
   "source": [
    "# add dummy variable to dataframe\n",
    "progresa$prd1994_50 <- as.integer(progresa$prd1994v > 50)\n",
    "\n",
    "interact_turn.lm <- lm(t2000r ~ avgpoverty + log(pobtot1994) + t1994r + pri1994v + pan1994v + prd1994v + treatment + \n",
    "                       prd1994_50 + prd1994_50:treatment, data = progresa)\n",
    "summary(interact_turn.lm)"
   ]
  },
  {
   "cell_type": "code",
   "execution_count": 13,
   "id": "82ae2a1c",
   "metadata": {},
   "outputs": [],
   "source": [
    "set.seed(5)\n",
    "sim2 <- sim(interact_turn.lm, n.sims = 1000)\n",
    "\n",
    "# extract treatment effect intercepts and slopes from simulation\n",
    "effect_intercepts <- sim2@coef[,8]\n",
    "effect_slopes <- sim2@coef[,10]"
   ]
  },
  {
   "cell_type": "code",
   "execution_count": 14,
   "id": "e299d778",
   "metadata": {},
   "outputs": [
    {
     "data": {
      "image/png": "[encoded data removed]",
      "text/plain": [
       "Plot with title \"Treatment Effect Samples From Simulation of Interaction Model \n",
       " on Turnout Rate\""
      ]
     },
     "metadata": {
      "image/png": {
       "height": 420,
       "width": 420
      }
     },
     "output_type": "display_data"
    }
   ],
   "source": [
    "plot(x=NA, type='n', ylim=c(-10, 20), xaxt = 'n', xlim=c(0, 1), xlab='PRD voting rate (1994) > 50', \n",
    "     ylab='Treatment effect', main = 'Treatment Effect Samples From Simulation of Interaction Model \\n on Turnout Rate')\n",
    "axis(side = 1, at = c(0,1), labels = c('0 (no)','1 (yes)'))\n",
    "\n",
    "# plot simulation treatment effect lines\n",
    "for(i in 1:1000){\n",
    "    abline(a = effect_intercepts[i], b = effect_slopes[i], col = 'green', lwd = 1)\n",
    "}\n",
    "\n",
    "# plot avg simulation treatment effect line\n",
    "abline(a = mean(effect_intercepts), b = mean(effect_slopes), col = 'blue', lwd = 3)\n",
    "legend(0, 20, legend=c('Single simulation', 'Mean'), fill = c('green','blue'))"
   ]
  },
  {
   "cell_type": "markdown",
   "id": "70058717",
   "metadata": {},
   "source": [
    "**Question 5**\\\n",
    "The LOOCV error is calculated as a mean of the mean-squared error values for each dataset where 1 observation is removed from the training data. From the CV results below, we can see that the model without the extra independent variables (poverty squared and interaction between poverty squared and treatment) has a lower CV error (mean squared error). This means that we predict that model 1 will have a better out-of-sample performance; the test error will likely be lower for model 1 than model 2. Though the difference between the errors is very small, we might still prefer to choose model 1, since it has fewer predictors and thus is easier to interpret."
   ]
  },
  {
   "cell_type": "code",
   "execution_count": 15,
   "id": "52e0211a",
   "metadata": {
    "scrolled": false
   },
   "outputs": [
    {
     "name": "stdout",
     "output_type": "stream",
     "text": [
      "Model 1 CV error: 71.78602 \n",
      "Model 2 CV error: 72.17417"
     ]
    }
   ],
   "source": [
    "set.seed(123)\n",
    "\n",
    "reg_model1 <- glm(t2000r ~ treatment + log(pobtot1994) + avgpoverty + treatment:avgpoverty, data = progresa)\n",
    "cv.err1 <- cv.glm(data = progresa, glmfit = reg_model1, K = nrow(progresa))\n",
    "\n",
    "reg_model2 <- glm(t2000r ~ treatment + log(pobtot1994) + avgpoverty + I(avgpoverty^2) + treatment:avgpoverty + \n",
    "                  I(treatment*avgpoverty^2), data = progresa)\n",
    "cv.err2 <- cv.glm(data = progresa, glmfit = reg_model2, K = nrow(progresa))\n",
    "\n",
    "# access the CV error as $delta from CV object\n",
    "cat('Model 1 CV error:', cv.err1$delta[1], '\\n')\n",
    "cat('Model 2 CV error:', cv.err2$delta[1])"
   ]
  },
  {
   "cell_type": "markdown",
   "id": "54687b21",
   "metadata": {},
   "source": [
    "*Optional Extra Credit*\n",
    "\n",
    "From the analysis below, we see that the treatment effect and confidence intervals vary significantly across different poverty levels. For a poverty level of 2, the 95% confidence interval of the treatment effect is very wide ([-16.1, 3.4]), whereas for a poverty level of 5, this is [-2.6, 1.8]. This lack of confidence about lower poverty levels could come from the fact we have fewer observations in our dataset at lower levels (as we can see from the histograms in question 1). All the intervals across poverty levels between 2 and 5 span over 0, meaning we can't say for certain whether the treatment truly has a positive or negative effect on turnout rate across the population of precincts.\n",
    "\n",
    "Note: given that the treatment effect is a function of poverty and no other variables, there were no values encorporated from precinct 11 specifically in this analysis (since we vary poverty here)."
   ]
  },
  {
   "cell_type": "code",
   "execution_count": 16,
   "id": "b50ec4a1",
   "metadata": {
    "scrolled": true
   },
   "outputs": [],
   "source": [
    "sim3 <- sim(reg_model1, n.sims = 1000)\n",
    "\n",
    "# extract treatment effect intercepts and slopes from simulation\n",
    "effect_slopes <- sim3@coef[,5]\n",
    "effect_intercepts <- sim3@coef[,2]"
   ]
  },
  {
   "cell_type": "code",
   "execution_count": 17,
   "id": "0dbf3ff3",
   "metadata": {},
   "outputs": [
    {
     "name": "stdout",
     "output_type": "stream",
     "text": [
      "95% confidence intervals: \n",
      "Poverty level 2 : -16.14488 3.414123 \n",
      "Poverty level 2.5 : -13.26783 2.617414 \n",
      "Poverty level 3 : -10.37862 1.961054 \n",
      "Poverty level 3.5 : -7.445139 1.076762 \n",
      "Poverty level 4 : -4.913493 0.5002744 \n",
      "Poverty level 4.5 : -2.967954 0.4995616 \n",
      "Poverty level 5 : -2.624801 1.846546 \n"
     ]
    },
    {
     "data": {
      "image/png": "[encoded data removed]",
      "text/plain": [
       "Plot with title \"Treatment Effect Samples for Different Poverty Levels \n",
       " on Turnout Rate\""
      ]
     },
     "metadata": {
      "image/png": {
       "height": 420,
       "width": 420
      }
     },
     "output_type": "display_data"
    }
   ],
   "source": [
    "plot(x=NA, type='n', ylim=c(-25, 10), xaxt = 'n', xlim=c(2, 5), xlab='Poverty level', \n",
    "     ylab='Treatment effect', main = 'Treatment Effect Samples for Different Poverty Levels \\n on Turnout Rate')\n",
    "axis(side = 1, at = c(2, 2.5, 3, 3.5, 4, 4.5, 5), labels = c('2', '2.5', '3', '3.5', '4', '4.5', '5'))\n",
    "\n",
    "# plot simulation treatment effect lines\n",
    "for(i in 1:1000){\n",
    "    abline(a = effect_intercepts[i], b = effect_slopes[i], col = 'green', lwd = 1)\n",
    "}\n",
    "\n",
    "# confidence intervals for treatment effect with different poverty levels\n",
    "cat('95% confidence intervals: \\n')\n",
    "for(i in c(2, 2.5, 3, 3.5, 4, 4.5, 5)){\n",
    "    cat('Poverty level', i, ':', quantile(effect_intercepts+effect_slopes*i, probs = c(0.025, 0.975)), '\\n')\n",
    "    points(i, quantile(effect_intercepts+effect_slopes*i, probs = 0.025), pch = 16)\n",
    "    points(i, quantile(effect_intercepts+effect_slopes*i, probs = 0.975), pch = 16)\n",
    "}\n",
    "    \n",
    "# plot avg simulation treatment effect line\n",
    "abline(a = mean(effect_intercepts), b = mean(effect_slopes), col = 'blue', lwd = 3)\n",
    "legend(3.75, -17.5, legend=c('Single simulation', 'Mean', '95% CI boundaries'), fill = c('green','blue','black'))"
   ]
  }
 ],
 "metadata": {
  "kernelspec": {
   "display_name": "R",
   "language": "R",
   "name": "ir"
  },
  "language_info": {
   "codemirror_mode": "r",
   "file_extension": ".r",
   "mimetype": "text/x-r-source",
   "name": "R",
   "pygments_lexer": "r",
   "version": "4.1.3"
  }
 },
 "nbformat": 4,
 "nbformat_minor": 5
}
